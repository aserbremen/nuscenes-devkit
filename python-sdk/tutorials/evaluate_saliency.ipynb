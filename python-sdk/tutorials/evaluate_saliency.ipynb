{
 "cells": [
  {
   "cell_type": "code",
   "execution_count": 4,
   "metadata": {},
   "outputs": [],
   "source": [
    "import numpy as np\n",
    "\n",
    "def mean_absolute_error_image(saliency_map, mask):\n",
    "    pass"
   ]
  },
  {
   "cell_type": "code",
   "execution_count": 15,
   "metadata": {},
   "outputs": [],
   "source": [
    "import os\n",
    "import sys\n",
    "\n",
    "gbvs_bin = \"/home/serov/code/cpp/GBVS_fork/build/gbvs_main\"\n",
    "\n",
    "def get_gbvs_cpp(input_filename):\n",
    "    output_filename = input_filename.replace('image', 'gbvs')\n",
    "    gbvs_cmd = \".\" + gbvs_bin + \" -i \" + input_filename + \" -o \" + output_filename\n",
    "    print(gbvs_cmd)\n",
    "    print(os.system(gbvs_cmd))\n",
    "    if os.system(gbvs_cmd) == 0:\n",
    "        return cv2.imread(output_filename)\n",
    "    else:\n",
    "        raise Exception(\"Couldn't create GBVS saliency map.\")"
   ]
  },
  {
   "cell_type": "code",
   "execution_count": 16,
   "metadata": {},
   "outputs": [
    {
     "name": "stdout",
     "output_type": "stream",
     "text": [
      "./home/serov/code/cpp/GBVS_fork/build/gbvs_main -i /home/serov/code/python/nuscenes-devkit/results/birth_frames_and_masks/s0001_1531883530912460_image.png -o /home/serov/code/python/nuscenes-devkit/results/birth_frames_and_masks/s0001_1531883530912460_gbvs.png\n",
      "32512\n"
     ]
    },
    {
     "name": "stderr",
     "output_type": "stream",
     "text": [
      "sh: 1: ./home/serov/code/cpp/GBVS_fork/build/gbvs_main: not found\n",
      "sh: 1: ./home/serov/code/cpp/GBVS_fork/build/gbvs_main: not found\n"
     ]
    },
    {
     "ename": "error",
     "evalue": "OpenCV(4.5.4-dev) /tmp/pip-req-build-5mtujfce/opencv/modules/highgui/src/window.cpp:1006: error: (-215:Assertion failed) size.width>0 && size.height>0 in function 'imshow'\n",
     "output_type": "error",
     "traceback": [
      "\u001b[0;31m---------------------------------------------------------------------------\u001b[0m",
      "\u001b[0;31merror\u001b[0m                                     Traceback (most recent call last)",
      "\u001b[0;32m/tmp/ipykernel_26718/2387969121.py\u001b[0m in \u001b[0;36m<module>\u001b[0;34m\u001b[0m\n\u001b[1;32m     18\u001b[0m     \u001b[0;31m# mask = cv2.imread(mask_filename)\u001b[0m\u001b[0;34m\u001b[0m\u001b[0;34m\u001b[0m\u001b[0;34m\u001b[0m\u001b[0m\n\u001b[1;32m     19\u001b[0m     \u001b[0mgbvs\u001b[0m \u001b[0;34m=\u001b[0m \u001b[0mget_gbvs_cpp\u001b[0m\u001b[0;34m(\u001b[0m\u001b[0mimage_filename\u001b[0m\u001b[0;34m)\u001b[0m\u001b[0;34m\u001b[0m\u001b[0;34m\u001b[0m\u001b[0m\n\u001b[0;32m---> 20\u001b[0;31m     \u001b[0mcv2\u001b[0m\u001b[0;34m.\u001b[0m\u001b[0mimshow\u001b[0m\u001b[0;34m(\u001b[0m\u001b[0;34m\"gbvs\"\u001b[0m\u001b[0;34m,\u001b[0m \u001b[0mgbvs\u001b[0m\u001b[0;34m)\u001b[0m\u001b[0;34m\u001b[0m\u001b[0;34m\u001b[0m\u001b[0m\n\u001b[0m\u001b[1;32m     21\u001b[0m     \u001b[0mcv2\u001b[0m\u001b[0;34m.\u001b[0m\u001b[0mwaitKey\u001b[0m\u001b[0;34m(\u001b[0m\u001b[0;36m0\u001b[0m\u001b[0;34m)\u001b[0m\u001b[0;34m\u001b[0m\u001b[0;34m\u001b[0m\u001b[0m\n\u001b[1;32m     22\u001b[0m \u001b[0;34m\u001b[0m\u001b[0m\n",
      "\u001b[0;31merror\u001b[0m: OpenCV(4.5.4-dev) /tmp/pip-req-build-5mtujfce/opencv/modules/highgui/src/window.cpp:1006: error: (-215:Assertion failed) size.width>0 && size.height>0 in function 'imshow'\n"
     ]
    }
   ],
   "source": [
    "import glob\n",
    "import cv2\n",
    "\n",
    "width = 1600\n",
    "height = 900\n",
    "display_image = True\n",
    "save_images = True\n",
    "# get all images and birth masks\n",
    "base_data_path = \"/home/serov/code/python/nuscenes-devkit/results/birth_frames_and_masks\"\n",
    "\n",
    "image_filenames = sorted(glob.glob(base_data_path + os.sep + \"*image*\", recursive=False))\n",
    "mask_filenames = sorted(glob.glob(base_data_path + os.sep + \"*mask*\", recursive=False))\n",
    "\n",
    "assert(len(image_filenames) == len(mask_filenames))\n",
    "\n",
    "for image_filename, mask_filename in zip(image_filenames, mask_filenames):\n",
    "    # im = cv2.imread(image_filename)\n",
    "    # mask = cv2.imread(mask_filename)\n",
    "    gbvs = get_gbvs_cpp(image_filename)\n",
    "    cv2.imshow(\"gbvs\", gbvs)\n",
    "    cv2.waitKey(0)\n",
    "\n",
    "\n",
    "    \n",
    "    break\n",
    "\n",
    "cv2.destroyAllWindows()\n",
    "    "
   ]
  }
 ],
 "metadata": {
  "interpreter": {
   "hash": "318541fadf8f6473a5ac117b97e36e34b5dead6f3ba376595b86165903d1f35a"
  },
  "kernelspec": {
   "display_name": "Python 3.7.11 64-bit ('nuscenes_local': conda)",
   "name": "python3"
  },
  "language_info": {
   "codemirror_mode": {
    "name": "ipython",
    "version": 3
   },
   "file_extension": ".py",
   "mimetype": "text/x-python",
   "name": "python",
   "nbconvert_exporter": "python",
   "pygments_lexer": "ipython3",
   "version": "3.7.11"
  },
  "orig_nbformat": 4
 },
 "nbformat": 4,
 "nbformat_minor": 2
}
