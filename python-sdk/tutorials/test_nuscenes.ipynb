{
 "cells": [
  {
   "cell_type": "code",
   "execution_count": 1,
   "metadata": {},
   "outputs": [
    {
     "name": "stdout",
     "output_type": "stream",
     "text": [
      "======\n",
      "Loading NuScenes tables for version v1.0-trainval...\n",
      "Loading nuScenes-panoptic...\n",
      "32 category,\n",
      "8 attribute,\n",
      "4 visibility,\n",
      "64386 instance,\n",
      "12 sensor,\n",
      "10200 calibrated_sensor,\n",
      "2631083 ego_pose,\n",
      "68 log,\n",
      "850 scene,\n",
      "34149 sample,\n",
      "2631083 sample_data,\n",
      "1166187 sample_annotation,\n",
      "4 map,\n",
      "34149 panoptic,\n",
      "Done loading in 21.184 seconds.\n",
      "======\n",
      "Reverse indexing ...\n",
      "Done reverse indexing in 6.3 seconds.\n",
      "======\n"
     ]
    }
   ],
   "source": [
    "%matplotlib inline\n",
    "\n",
    "import os.path as osp\n",
    "from nuscenes.utils.geometry_utils import BoxVisibility\n",
    "import cv2\n",
    "from nuscenes import NuScenes\n",
    "\n",
    "nusc = NuScenes(version='v1.0-trainval', dataroot='/data/datasets/nuscenes', verbose=True)\n"
   ]
  },
  {
   "cell_type": "code",
   "execution_count": 9,
   "metadata": {},
   "outputs": [
    {
     "name": "stdout",
     "output_type": "stream",
     "text": [
      "sample_annotation {'token': 'acce0b7220754600b700257a1de1573d', 'sample_token': 'e93e98b63d3b40209056d129dc53ceee', 'instance_token': '39b6c31c9925492a8a9f1b0ef3b877b6', 'visibility_token': '4', 'attribute_tokens': ['58aa28b1c2a54dc88e169808c07331e3'], 'translation': [1002.464, 632.267, 1.936], 'size': [2.312, 7.516, 3.093], 'rotation': [0.9343569321017062, 0.0, 0.0, -0.35633849558178193], 'prev': '', 'next': '4b1c1acb00c04dfe84e54f64a8381649', 'num_lidar_pts': 171, 'num_radar_pts': 7, 'category_name': 'vehicle.truck'}\n",
      "instance {'token': '39b6c31c9925492a8a9f1b0ef3b877b6', 'category_token': '6021b5187b924d64be64a702e5570edf', 'nbr_annotations': 40, 'first_annotation_token': 'acce0b7220754600b700257a1de1573d', 'last_annotation_token': 'b5cd977a4d054c31936464f9e6201820'}\n",
      "category {'token': '6021b5187b924d64be64a702e5570edf', 'name': 'vehicle.truck', 'description': 'Vehicles primarily designed to haul cargo including pick-ups, lorrys, trucks and semi-tractors. Trailers hauled after a semi-tractor should be labeled as vehicle.trailer', 'index': 23}\n",
      "attribute {'token': '58aa28b1c2a54dc88e169808c07331e3', 'name': 'vehicle.parked', 'description': 'Vehicle is stationary (usually for longer duration) with no immediate intent to move.'}\n",
      "sample_annotation {'token': '4b1c1acb00c04dfe84e54f64a8381649', 'sample_token': '14d5adfe50bb4445bc3aa5fe607691a8', 'instance_token': '39b6c31c9925492a8a9f1b0ef3b877b6', 'visibility_token': '4', 'attribute_tokens': ['58aa28b1c2a54dc88e169808c07331e3'], 'translation': [1002.497, 632.298, 1.786], 'size': [2.312, 7.516, 3.093], 'rotation': [0.9343569321017062, 0.0, 0.0, -0.35633849558178193], 'prev': 'acce0b7220754600b700257a1de1573d', 'next': '8feca495e3614382b12a6637c82c4670', 'num_lidar_pts': 197, 'num_radar_pts': 5, 'category_name': 'vehicle.truck'}\n",
      "instance {'token': '39b6c31c9925492a8a9f1b0ef3b877b6', 'category_token': '6021b5187b924d64be64a702e5570edf', 'nbr_annotations': 40, 'first_annotation_token': 'acce0b7220754600b700257a1de1573d', 'last_annotation_token': 'b5cd977a4d054c31936464f9e6201820'}\n",
      "category {'token': '6021b5187b924d64be64a702e5570edf', 'name': 'vehicle.truck', 'description': 'Vehicles primarily designed to haul cargo including pick-ups, lorrys, trucks and semi-tractors. Trailers hauled after a semi-tractor should be labeled as vehicle.trailer', 'index': 23}\n",
      "attribute {'token': '58aa28b1c2a54dc88e169808c07331e3', 'name': 'vehicle.parked', 'description': 'Vehicle is stationary (usually for longer duration) with no immediate intent to move.'}\n",
      "sample_annotation {'token': '405f156885d549ca812e1305eddee42f', 'sample_token': '14d5adfe50bb4445bc3aa5fe607691a8', 'instance_token': 'a1f53dd65da64eb2b0cec51d57b8c047', 'visibility_token': '4', 'attribute_tokens': ['58aa28b1c2a54dc88e169808c07331e3'], 'translation': [994.117, 639.415, 1.831], 'size': [2.156, 6.227, 2.601], 'rotation': [0.9476012733958709, 0.0, 0.0, -0.31945551593065974], 'prev': 'b0284e14d17a444a8d0071bd1f03a0a2', 'next': '2b416272b5864e72af998d3c95b80e66', 'num_lidar_pts': 68, 'num_radar_pts': 3, 'category_name': 'vehicle.truck'}\n",
      "instance {'token': 'a1f53dd65da64eb2b0cec51d57b8c047', 'category_token': '6021b5187b924d64be64a702e5570edf', 'nbr_annotations': 40, 'first_annotation_token': 'b0284e14d17a444a8d0071bd1f03a0a2', 'last_annotation_token': '96a0cae1bacb42df9319c0a6a5ca7d7b'}\n",
      "category {'token': '6021b5187b924d64be64a702e5570edf', 'name': 'vehicle.truck', 'description': 'Vehicles primarily designed to haul cargo including pick-ups, lorrys, trucks and semi-tractors. Trailers hauled after a semi-tractor should be labeled as vehicle.trailer', 'index': 23}\n",
      "attribute {'token': '58aa28b1c2a54dc88e169808c07331e3', 'name': 'vehicle.parked', 'description': 'Vehicle is stationary (usually for longer duration) with no immediate intent to move.'}\n"
     ]
    }
   ],
   "source": [
    "for idx, scene in enumerate(nusc.scene):\n",
    "    # print(scene)\n",
    "    sample = nusc.sample\n",
    "    # nusc.list_sample(scene['first_sample_token'])\n",
    "\n",
    "    channel = 'CAM_FRONT'\n",
    "    first_sample_rec = nusc.get('sample', scene['first_sample_token'])\n",
    "    sd_rec = nusc.get('sample_data', first_sample_rec['data'][channel])\n",
    "    \n",
    "    # last_sample_rec = nusc.get('sample', scene['last_sample_token'])\n",
    "\n",
    "    window_name= '{}'.format(scene['name'])\n",
    "    cv2.namedWindow(window_name)\n",
    "    cv2.moveWindow(window_name, 0, 0)\n",
    "    \n",
    "    has_more_frames = True\n",
    "    milliseconds = 1000\n",
    "    while has_more_frames:\n",
    "\n",
    "        # get annotations, boxes, camera_intrinsic\n",
    "        impath, boxes, camera_intrinsic = nusc.get_sample_data(sd_rec['token'], box_vis_level=BoxVisibility.ANY)\n",
    "\n",
    "        im = cv2.imread(impath)\n",
    "\n",
    "        if not osp.exists(impath):\n",
    "            raise Exception('Error: Missing image %s' % impath)\n",
    "        for box in boxes:\n",
    "            c = nusc.explorer.get_color(box.name)\n",
    "            # print(box.name, box.label)\n",
    "            box.render_cv2(im, view=camera_intrinsic, normalize=True, colors=(c, c, c))\n",
    "            sample_annotation = nusc.get('sample_annotation', box.token)\n",
    "            print(\"sample_annotation\", sample_annotation)\n",
    "            instance = nusc.get('instance', sample_annotation['instance_token'])\n",
    "            print(\"instance\", instance)\n",
    "            category = nusc.get('category', instance['category_token'])\n",
    "            print(\"category\", category)\n",
    "            for attribute_token in sample_annotation['attribute_tokens']:\n",
    "                attribute = nusc.get('attribute', attribute_token)\n",
    "                print(\"attribute\", attribute)\n",
    "\n",
    "\n",
    "        cv2.imshow(window_name, im)\n",
    "        \n",
    "        key = cv2.waitKey(milliseconds)\n",
    "        if key == 32: # if space is pressed, pause.\n",
    "            key = cv2.waitKey()\n",
    "        if key == 27: # if ESC is pressed, exit.\n",
    "            cv2.destroyAllWindows()\n",
    "            break\n",
    "\n",
    "        if sd_rec['next'] == '':\n",
    "            has_more_frames = False\n",
    "            cv2.destroyAllWindows()\n",
    "        else:        \n",
    "            prev_sd_rec = sd_rec\n",
    "            sd_rec = nusc.get('sample_data', sd_rec['next'])\n",
    "\n",
    "    break\n"
   ]
  }
 ],
 "metadata": {
  "interpreter": {
   "hash": "5d8b40f8a916e9ce5f345afc9d274f43012611ae97e61619737a5f8ddd599ebf"
  },
  "kernelspec": {
   "display_name": "Python 3.6.13 64-bit ('nuscenes': conda)",
   "name": "python3"
  },
  "language_info": {
   "codemirror_mode": {
    "name": "ipython",
    "version": 3
   },
   "file_extension": ".py",
   "mimetype": "text/x-python",
   "name": "python",
   "nbconvert_exporter": "python",
   "pygments_lexer": "ipython3",
   "version": "3.6.13"
  },
  "orig_nbformat": 4
 },
 "nbformat": 4,
 "nbformat_minor": 2
}
